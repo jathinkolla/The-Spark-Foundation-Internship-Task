{
  "cells": [
    {
      "cell_type": "markdown",
      "metadata": {
        "id": "zuY5N__35VeW"
      },
      "source": [
        "## Technical TASK 8 :- Stock Market Prediction using Numerical and Textual Analysis\n",
        "In this task, we will Create a storyboard showing spread of Covid-19 cases in your country or any region (Asia, Europe, BRICS etc)\n",
        "#### Task Completed for The Sparks Foundation Internship Program\n",
        "#### Data Science & Business Analytics Internship Task_8\n",
        "###  Author: Jathin Kolla "
      ]
    },
    {
      "cell_type": "code",
      "execution_count": null,
      "metadata": {
        "extensions": {
          "jupyter_dashboards": {
            "version": 1,
            "views": {
              "grid_default": {},
              "report_default": {
                "col": 0,
                "height": 2,
                "hidden": false,
                "row": 2,
                "width": 12
              }
            }
          }
        },
        "id": "we4PJH8w5Vec"
      },
      "outputs": [],
      "source": [
        "import pandas as pd\n",
        "import numpy as np\n",
        "import matplotlib.pyplot as plt\n",
        "from IPython.display import Markdown, display\n",
        "from datetime import datetime as d\n",
        "from ipywidgets import interact,interactive,fixed,interact_manual\n",
        "import ipywidgets as widgets\n",
        "import chart_studio.plotly as py\n",
        "import plotly.graph_objs as go\n",
        "from plotly.offline import iplot, init_notebook_mode\n",
        "import cufflinks\n",
        "from plotly.subplots import make_subplots\n",
        "import dateutil\n",
        "import plotly.express as px\n",
        "import plotly.io as pio\n",
        "import datetime\n",
        "from statistics import mean \n",
        "import datetime as dt\n",
        "import requests\n",
        "from itertools import chain\n",
        "import plotly.graph_objects as go\n",
        "from plotly.subplots import make_subplots\n",
        "import folium\n",
        "from folium import plugins\n",
        "import os\n",
        "import sys\n",
        "from scipy.optimize import curve_fit\n",
        "from sklearn.metrics import mean_squared_log_error\n",
        "from sklearn.metrics import r2_score\n",
        "cufflinks.go_offline(connected=True)\n",
        "init_notebook_mode(connected=True)\n",
        "%matplotlib inline"
      ]
    },
    {
      "cell_type": "markdown",
      "metadata": {
        "id": "4Ycx8Pdj5Vee"
      },
      "source": [
        "# COVID19 SPREAD WORLDWIDE "
      ]
    },
    {
      "cell_type": "code",
      "execution_count": null,
      "metadata": {
        "extensions": {
          "jupyter_dashboards": {
            "version": 1,
            "views": {
              "grid_default": {},
              "report_default": {
                "hidden": true
              }
            }
          }
        },
        "id": "9D2gjyqj5Vef"
      },
      "outputs": [],
      "source": [
        "full = pd.read_csv(\"full_data (4).csv\")\n",
        "full = full[full['new_cases'].notna()]\n",
        "full_ = full.groupby(\"date\" ,as_index=False)[['new_cases','new_deaths']].sum()\n",
        "full_[\"Date\"] = pd.to_datetime(full_['date'])\n",
        "full_['Week_Number'] = full_['Date'].dt.week\n",
        "full__ = full_.groupby(\"Week_Number\" ,as_index=False)[['new_cases','new_deaths']].mean()"
      ]
    },
    {
      "cell_type": "code",
      "execution_count": null,
      "metadata": {
        "extensions": {
          "jupyter_dashboards": {
            "version": 1,
            "views": {
              "grid_default": {},
              "report_default": {
                "col": 0,
                "height": 3,
                "hidden": false,
                "row": 6,
                "width": 4
              }
            }
          }
        },
        "id": "OeJRtZ-Y5Veg"
      },
      "outputs": [],
      "source": [
        "fig = px.bar(full_,x='date', y='new_cases', orientation='v',title = \"COVID19-  daily new cases\",\n",
        "             labels=dict(x=\"Date\", y=\"Count\"))\n",
        "fig.show()\n"
      ]
    },
    {
      "cell_type": "code",
      "execution_count": null,
      "metadata": {
        "extensions": {
          "jupyter_dashboards": {
            "version": 1,
            "views": {
              "grid_default": {},
              "report_default": {
                "col": 5,
                "height": 3,
                "hidden": false,
                "row": 6,
                "width": 5
              }
            }
          }
        },
        "id": "wA2C2gEn5Veh"
      },
      "outputs": [],
      "source": [
        "fig = px.line(x=full__[\"Week_Number\"], y=full__[\"new_cases\"], title = \"7-day average of daily new cases\",\n",
        "             labels=dict(x=\"Week\", y=\"Count\"))\n",
        "fig.show()"
      ]
    },
    {
      "cell_type": "code",
      "execution_count": null,
      "metadata": {
        "extensions": {
          "jupyter_dashboards": {
            "version": 1,
            "views": {
              "grid_default": {},
              "report_default": {
                "col": 0,
                "height": 2,
                "hidden": false,
                "row": 9,
                "width": 12
              }
            }
          }
        },
        "id": "u30CL3rr5Veh"
      },
      "outputs": [],
      "source": [
        "df = pd.read_csv(\"covid_19_data.csv\")\n",
        "df.rename(columns={'ObservationDate':'Date','Province/State':'Province_State',\n",
        "                   'Country/Region':'Country_Region','Confirmed':'ConfirmedCases',\n",
        "                   'Deaths':'Fatalities'},inplace=True)\n",
        "df.loc[df['Country_Region']=='Mainland China','Country_Region']='China'\n",
        "\n",
        "df_world = df.copy()\n",
        "df_world = df_world.groupby('Date',as_index=False)['ConfirmedCases','Fatalities','Recovered'].sum()"
      ]
    },
    {
      "cell_type": "code",
      "execution_count": null,
      "metadata": {
        "extensions": {
          "jupyter_dashboards": {
            "version": 1,
            "views": {
              "grid_default": {},
              "report_default": {
                "col": 0,
                "height": 2,
                "hidden": false,
                "row": 11,
                "width": 12
              }
            }
          }
        },
        "id": "-q0DiOvq5Vei"
      },
      "outputs": [],
      "source": [
        "l = [df_world.columns.to_list()[1] , df_world.columns.to_list()[2] ,df_world.columns.to_list()[3]]\n",
        "fig = go.Figure()\n",
        "\n",
        "for column in l:\n",
        "    fig.add_trace(\n",
        "        go.Scatter(\n",
        "            x = df_world['Date'],\n",
        "            y = df_world[column],\n",
        "            name = column\n",
        "        )\n",
        "    )\n",
        "fig.update_layout(\n",
        "    updatemenus=[go.layout.Updatemenu(\n",
        "        active=0,\n",
        "        buttons=list(\n",
        "            [dict(label = 'All',\n",
        "                  method = 'update',\n",
        "                  args = [{'visible': [True, True,True]},\n",
        "                          {'title': 'All',\n",
        "                           'showlegend':True}]),\n",
        "             dict(label = 'ConfirmedCases',\n",
        "                  method = 'update',\n",
        "                  args = [{'visible': [True, False,False]}, \n",
        "                          {'title': 'ConfirmedCases',\n",
        "                           'showlegend':True}]),\n",
        "             dict(label = 'Fatalities',\n",
        "                  method = 'update',\n",
        "                  args = [{'visible': [False,True,False]},\n",
        "                          {'title': 'Fatalities',\n",
        "                           'showlegend':True}]),\n",
        "              dict(label = 'Recovered',\n",
        "                  method = 'update',\n",
        "                  args = [{'visible': [False,False,True]},\n",
        "                          {'title': 'Recovered',\n",
        "                           'showlegend':True}]),\n",
        "            ])\n",
        "        )\n",
        "    ])\n",
        "\n",
        "fig.show()"
      ]
    },
    {
      "cell_type": "code",
      "execution_count": null,
      "metadata": {
        "extensions": {
          "jupyter_dashboards": {
            "version": 1,
            "views": {
              "grid_default": {},
              "report_default": {
                "col": 0,
                "height": 2,
                "hidden": false,
                "row": 13,
                "width": 12
              }
            }
          }
        },
        "id": "mnIiXdxi5Vek"
      },
      "outputs": [],
      "source": [
        "#Get the top 5 countries\n",
        "last_date = df.Date.max()\n",
        "df_countries = df[df['Date']==last_date]\n",
        "df_countries = df_countries.groupby('Country_Region', as_index=False)['ConfirmedCases','Fatalities','Recovered'].sum()\n",
        "df_countries = df_countries.sort_values(by = 'ConfirmedCases',ascending =False)\n",
        "df_trend = df.groupby(['Date','Country_Region'], as_index=False)['ConfirmedCases','Fatalities','Recovered'].sum()\n",
        "top5 = df_trend.loc[df_trend['Country_Region'].isin(['US', 'Brazil', 'India', 'Russia', 'Colombia'])]\n",
        "figa = px.line(top5, x='Date', y='ConfirmedCases', color='Country_Region', title='COVID19- Top 5 worst affected countries')\n",
        "figa.show()"
      ]
    },
    {
      "cell_type": "code",
      "execution_count": null,
      "metadata": {
        "extensions": {
          "jupyter_dashboards": {
            "version": 1,
            "views": {
              "grid_default": {},
              "report_default": {
                "col": 0,
                "height": 2,
                "hidden": false,
                "row": 15,
                "width": 12
              }
            }
          }
        },
        "id": "c0EGlUI15Vel"
      },
      "outputs": [],
      "source": [
        "df_countries_fatal = df_countries.sort_values(by = 'Fatalities',ascending =False)\n",
        "top5_f = df_trend.loc[df_trend['Country_Region'].isin(['US', 'Brazil', 'India', 'Mexico', 'UK'])]\n",
        "figb = px.line(top5_f, x='Date', y='Fatalities', color='Country_Region', title='COVID19- Top 5 countries with highest no. of deaths')\n",
        "figb.show()"
      ]
    },
    {
      "cell_type": "markdown",
      "metadata": {
        "extensions": {
          "jupyter_dashboards": {
            "version": 1,
            "views": {
              "grid_default": {},
              "report_default": {
                "col": 0,
                "height": 2,
                "hidden": false,
                "row": 17,
                "width": 12
              }
            }
          }
        },
        "id": "WI6-qhhb5Vel"
      },
      "source": [
        "# SPREAD OF COVID19 IN INDIA \n"
      ]
    },
    {
      "cell_type": "code",
      "execution_count": null,
      "metadata": {
        "extensions": {
          "jupyter_dashboards": {
            "version": 1,
            "views": {
              "grid_default": {},
              "report_default": {
                "col": 0,
                "height": 2,
                "hidden": false,
                "row": 19,
                "width": 12
              }
            }
          }
        },
        "id": "DJTGff_S5Vem"
      },
      "outputs": [],
      "source": [
        "d1 = pd.read_csv('state_wise.csv')\n",
        "\n",
        "d1['COVID_SPREAD'] = 'Recovered: ' + d1['Recovered'].astype(str) +'  Deceased: ' + d1['Deaths'].astype(str) \n",
        "d11 = d1.drop(0,)\n",
        "\n",
        "\n",
        "cord = pd.read_csv(\"Indian Coordinates.csv\")\n",
        "cord.rename(columns={\"Name of State / UT\" :\"State\"},inplace = True)\n",
        "cord = cord.drop(7).reset_index()\n",
        "cord[\"State\"]= cord[\"State\"].replace({\"Delhi\": \"NCT of Delhi\", \"Andaman and Nicobar\" : \"Andaman and Nicobar Island\" , \"Pondicherry\" : \"Puducherry\", \"Arunachal Pradesh\":\"Arunanchal Pradesh\"  })  \n",
        "final = pd.merge(d11,cord,on = \"State\")\n",
        "final[\"Confirmed\"] = final[\"Confirmed\"].astype(float)\n",
        "\n"
      ]
    },
    {
      "cell_type": "code",
      "execution_count": null,
      "metadata": {
        "extensions": {
          "jupyter_dashboards": {
            "version": 1,
            "views": {
              "grid_default": {},
              "report_default": {
                "hidden": true
              }
            }
          }
        },
        "id": "PSzh5P8K5Vem"
      },
      "outputs": [],
      "source": [
        "m = folium.Map(location=[20,80], tiles=\"Stamen Terrain\", zoom_start=4)\n",
        "\n",
        "for Latitude, Longitude, State, Confirmed in zip(final.Latitude, final.Longitude ,final.State,final.Confirmed):\n",
        "        folium.features.CircleMarker(\n",
        "            [Latitude,Longitude],\n",
        "            radius=Confirmed/20000,\n",
        "            popup = ('<strong>State</strong>: ' + str(State).capitalize() + '<br>'\n",
        "                                '<strong>Confirmed Cases</strong>: ' + str(Confirmed) + '<br>'),\n",
        "            color='yellow',\n",
        "            fill=True,\n",
        "            fill_color='red',\n",
        "            fill_opacity=0.6\n",
        "        ).add_to(m)\n",
        "m"
      ]
    },
    {
      "cell_type": "code",
      "execution_count": null,
      "metadata": {
        "id": "Y_21hNmz5Ven"
      },
      "outputs": [],
      "source": [
        "tri = pd.read_csv(\"case_time_series.csv\")\n",
        "t = tri.tail(1)\n",
        "t['country'] = \"India\"\n",
        "t['Total Confirmed'][282]\n",
        "fig = go.Figure()\n",
        "fig.add_trace(go.Bar(\n",
        "    y=t[\"country\"],\n",
        "    x=t[\"Total Confirmed\"],\n",
        "    name = \"Confirmed\",\n",
        "    orientation='h',\n",
        "    marker=dict(\n",
        "        color='rgba(2, 199, 99, 0.6)',\n",
        "        line=dict(color='rgba(2, 199, 99,0.6)', width=0.5)\n",
        "    )\n",
        "    \n",
        "))\n",
        "fig.add_trace(go.Bar(\n",
        "    y=t[\"country\"],\n",
        "    x=t[\"Total Recovered\"],\n",
        "    name = \"Recovered\",\n",
        "    orientation='h',\n",
        "    marker=dict(\n",
        "        color='rgba(246, 78, 139, 0.6)',\n",
        "        line=dict(color='rgba(246, 78, 139, 1.0)', width=0.5)\n",
        "    )\n",
        "))\n",
        "fig.add_trace(go.Bar(\n",
        "    y=t[\"country\"],\n",
        "    x=t[\"Total Deceased\"],\n",
        "    name = \"Deceased\",\n",
        "    orientation='h',\n",
        "    marker=dict(\n",
        "        color='rgba(58, 71, 80, 0.6)',\n",
        "        line=dict(color='rgba(58, 71, 80, 1.0)', width=0.5)\n",
        "    )\n",
        "    \n",
        "))\n",
        "\n",
        "\n",
        "fig.update_layout(barmode='stack')\n",
        "fig.show()"
      ]
    },
    {
      "cell_type": "code",
      "execution_count": null,
      "metadata": {
        "extensions": {
          "jupyter_dashboards": {
            "version": 1,
            "views": {
              "grid_default": {},
              "report_default": {
                "hidden": true
              }
            }
          }
        },
        "id": "_fI-Y6Ou5Ven"
      },
      "outputs": [],
      "source": [
        "fig = px.bar(tri,x='Date_YMD', y='Daily Confirmed', orientation='v',title = \"Daily new COVID19 cases in India\" )\n",
        "fig.update_layout(bargap = 0)\n",
        "fig.show()"
      ]
    },
    {
      "cell_type": "code",
      "execution_count": null,
      "metadata": {
        "id": "7dCrJiyA5Veo"
      },
      "outputs": [],
      "source": [
        "## SPREAD IN INDIA OVERTIME"
      ]
    },
    {
      "cell_type": "code",
      "execution_count": null,
      "metadata": {
        "id": "Hr8sFtaE5Veo"
      },
      "outputs": [],
      "source": [
        "l = [tri.columns.to_list()[4] , tri.columns.to_list()[6] ,tri.columns.to_list()[8]]\n",
        "fig = go.Figure()\n",
        "\n",
        "for column in l:\n",
        "    fig.add_trace(\n",
        "        go.Scatter(\n",
        "            x = tri['Date'],\n",
        "            y = tri[column],\n",
        "            name = column,\n",
        "        )\n",
        "    )\n",
        "fig.update_layout(\n",
        "    updatemenus=[go.layout.Updatemenu(\n",
        "        active=0,\n",
        "        buttons=list(\n",
        "            [dict(label = 'All',\n",
        "                  method = 'update',\n",
        "                  args = [{'visible': [True, True,True]},\n",
        "                          {'title': 'All',\n",
        "                           'showlegend':True}]),\n",
        "             dict(label = 'ConfirmedCases',\n",
        "                  method = 'update',\n",
        "                  args = [{'visible': [True, False,False]}, \n",
        "                          {'title': 'ConfirmedCases',\n",
        "                           'showlegend':True}]),\n",
        "             dict(label = 'Recovered',\n",
        "                  method = 'update',\n",
        "                  args = [{'visible': [False,True,False]},\n",
        "                          {'title': 'Recovered',\n",
        "                           'showlegend':True}]),\n",
        "              dict(label = 'Fatalities',\n",
        "                  method = 'update',\n",
        "                  args = [{'visible': [False,False,True]},\n",
        "                          {'title': 'Fatalities',\n",
        "                           'showlegend':True}]),\n",
        "            ])\n",
        "        )\n",
        "    ])\n",
        "\n",
        "fig.show()"
      ]
    }
  ],
  "metadata": {
    "extensions": {
      "jupyter_dashboards": {
        "activeView": "report_default",
        "version": 1,
        "views": {
          "grid_default": {
            "name": "grid",
            "type": "grid"
          },
          "report_default": {
            "name": "report",
            "type": "report"
          }
        }
      }
    },
    "kernelspec": {
      "display_name": "Python 3",
      "language": "python",
      "name": "python3"
    },
    "language_info": {
      "codemirror_mode": {
        "name": "ipython",
        "version": 3
      },
      "file_extension": ".py",
      "mimetype": "text/x-python",
      "name": "python",
      "nbconvert_exporter": "python",
      "pygments_lexer": "ipython3",
      "version": "3.8.3"
    },
    "colab": {
      "name": "COVID19.ipynb",
      "provenance": []
    }
  },
  "nbformat": 4,
  "nbformat_minor": 0
}